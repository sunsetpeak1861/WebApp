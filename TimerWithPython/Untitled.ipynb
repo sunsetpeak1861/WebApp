{
 "cells": [
  {
   "cell_type": "code",
   "execution_count": null,
   "metadata": {},
   "outputs": [],
   "source": [
    "# the idea is from \n",
    "# https://www.sejuku.net/blog/73265"
   ]
  },
  {
   "cell_type": "code",
   "execution_count": 1,
   "metadata": {},
   "outputs": [
    {
     "name": "stdout",
     "output_type": "stream",
     "text": [
      "0\n",
      "1\n",
      "2\n",
      "3\n",
      "4\n",
      "5\n",
      "6\n",
      "7\n",
      "8\n",
      "9\n",
      "時間です！ Time's up!\n"
     ]
    }
   ],
   "source": [
    "from time import sleep\n",
    "\n",
    "target_time = 10\n",
    "\n",
    "def up_timer(secs):\n",
    "    for i in range(0,secs):\n",
    "        print(i)\n",
    "        sleep(1)\n",
    "    print(\"時間です！ Time's up!\")\n",
    "    \n",
    "up_timer(target_time)"
   ]
  },
  {
   "cell_type": "code",
   "execution_count": 2,
   "metadata": {},
   "outputs": [
    {
     "name": "stdout",
     "output_type": "stream",
     "text": [
      "10\n",
      "9\n",
      "8\n",
      "7\n",
      "6\n",
      "5\n",
      "4\n",
      "3\n",
      "2\n",
      "1\n",
      "0\n",
      "時間です！ Time's up!\n"
     ]
    }
   ],
   "source": [
    "target_time = 10\n",
    "\n",
    "def down_timer(secs):\n",
    "    # for i in range(0,secs):から変更\n",
    "    for i in range(secs, -1, -1):\n",
    "        # 以下同じ...\n",
    "        print(i)\n",
    "        sleep(1)\n",
    "    print(\"時間です！ Time's up!\")\n",
    "    \n",
    "down_timer(target_time)"
   ]
  },
  {
   "cell_type": "code",
   "execution_count": 3,
   "metadata": {},
   "outputs": [
    {
     "name": "stdout",
     "output_type": "stream",
     "text": [
      "0\n",
      "10\n",
      "1\n",
      "9\n",
      "2\n",
      "8\n",
      "37\n",
      "\n",
      "46\n",
      "\n",
      "55\n",
      "\n",
      "46\n",
      "\n",
      "3\n",
      "7\n",
      "2\n",
      "8\n",
      "1\n",
      "9\n",
      "0\n",
      "カウントアップ終了！ Count up done!\n",
      "カウントダウン終了！ Count down done!\n"
     ]
    }
   ],
   "source": [
    "from time import sleep\n",
    "from threading import Thread\n",
    "# Threadオブジェクトをインポート\n",
    "\n",
    "target_time = 10\n",
    "\n",
    "def up_timer(secs):\n",
    "    for i in range(0,secs):\n",
    "        print(i)\n",
    "        sleep(1)\n",
    "    print(\"カウントアップ終了！ Count up done!\")  \n",
    "    \n",
    "def down_timer(secs):\n",
    "    # for i in range(0,secs):から変更\n",
    "    for i in range(secs, -1, -1):\n",
    "        # 以下同じ...\n",
    "        print(i)\n",
    "        sleep(1)\n",
    "    print(\"カウントダウン終了！ Count down done!\")\n",
    "    \n",
    "    \n",
    "thread_1 = Thread(target=up_timer,args=(target_time,))\n",
    "thread_2 = Thread(target=down_timer,args=(target_time,))\n",
    "\n",
    "thread_1.start()\n",
    "thread_2.start()"
   ]
  },
  {
   "cell_type": "code",
   "execution_count": null,
   "metadata": {},
   "outputs": [],
   "source": []
  }
 ],
 "metadata": {
  "kernelspec": {
   "display_name": "Python 3",
   "language": "python",
   "name": "python3"
  },
  "language_info": {
   "codemirror_mode": {
    "name": "ipython",
    "version": 3
   },
   "file_extension": ".py",
   "mimetype": "text/x-python",
   "name": "python",
   "nbconvert_exporter": "python",
   "pygments_lexer": "ipython3",
   "version": "3.7.5"
  }
 },
 "nbformat": 4,
 "nbformat_minor": 2
}

{
 "cells": [
  {
   "cell_type": "code",
   "execution_count": 5,
   "metadata": {},
   "outputs": [
    {
     "name": "stderr",
     "output_type": "stream",
     "text": [
      "Exception in Tkinter callback\n",
      "Traceback (most recent call last):\n",
      "  File \"/Users/k/opt/anaconda3/lib/python3.7/tkinter/__init__.py\", line 1705, in __call__\n",
      "    return self.func(*args)\n",
      "  File \"/Users/k/opt/anaconda3/lib/python3.7/tkinter/__init__.py\", line 749, in callit\n",
      "    func(*args)\n",
      "  File \"<ipython-input-5-4d14b6ea0a69>\", line 18, in update_clock\n",
      "    self.label.configure(text=now)\n",
      "  File \"/Users/k/opt/anaconda3/lib/python3.7/tkinter/__init__.py\", line 1485, in configure\n",
      "    return self._configure('configure', cnf, kw)\n",
      "  File \"/Users/k/opt/anaconda3/lib/python3.7/tkinter/__init__.py\", line 1476, in _configure\n",
      "    self.tk.call(_flatten((self._w, cmd)) + self._options(cnf))\n",
      "_tkinter.TclError: invalid command name \".!label2\"\n"
     ]
    }
   ],
   "source": [
    "try:\n",
    "    import Tkinter as tk\n",
    "except:\n",
    "    import tkinter as tk\n",
    "    \n",
    "import time\n",
    "\n",
    "class Clock():\n",
    "    def __init__(self):\n",
    "        self.root = tk.Tk()\n",
    "        self.label = tk.Label(text=\"\", font=('Helvetica', 48), fg='red')\n",
    "        self.label.pack()\n",
    "        self.update_clock()\n",
    "        self.root.mainloop()\n",
    "        \n",
    "    def update_clock(self):\n",
    "        now = time.strftime(\"%H:%M:%S\")\n",
    "        self.label.configure(text=now)\n",
    "        self.root.after(1000, self.update_clock)\n",
    "        \n",
    "app=Clock()"
   ]
  },
  {
   "cell_type": "markdown",
   "metadata": {},
   "source": [
    "the idea is from:\n",
    "https://www.delftstack.com/ja/howto/python-tkinter/how-to-use-a-timer-in-tkinter/"
   ]
  },
  {
   "cell_type": "code",
   "execution_count": null,
   "metadata": {},
   "outputs": [],
   "source": []
  }
 ],
 "metadata": {
  "kernelspec": {
   "display_name": "Python 3",
   "language": "python",
   "name": "python3"
  },
  "language_info": {
   "codemirror_mode": {
    "name": "ipython",
    "version": 3
   },
   "file_extension": ".py",
   "mimetype": "text/x-python",
   "name": "python",
   "nbconvert_exporter": "python",
   "pygments_lexer": "ipython3",
   "version": "3.7.5"
  }
 },
 "nbformat": 4,
 "nbformat_minor": 2
}
